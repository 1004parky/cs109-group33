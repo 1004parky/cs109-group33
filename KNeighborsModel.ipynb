{
 "cells": [
  {
   "cell_type": "code",
   "execution_count": 4,
   "metadata": {},
   "outputs": [],
   "source": [
    "import numpy as np\n",
    "import pandas as pd\n",
    "import heapq\n",
    "import random\n",
    "\n",
    "from sklearn.neighbors import NearestNeighbors\n",
    "from sklearn.metrics import accuracy_score, r2_score\n",
    "from sklearn.model_selection import train_test_split\n",
    "from collections import defaultdict\n",
    "import matplotlib.pyplot as plt\n",
    "\n",
    "from tools import *"
   ]
  },
  {
   "cell_type": "code",
   "execution_count": 5,
   "metadata": {},
   "outputs": [],
   "source": [
    "# Functions we wrote\n",
    "def get_npreds(songs, model, df, n_preds=10, n_neigh=10):\n",
    "    \"\"\"\n",
    "    given a list of songs as titles, a NearestNeighbor model, sparse dataframe, and number of desired predictions,\n",
    "    outputs an array with 1's at indices of predicted songs\n",
    "    \n",
    "    INPUT:\n",
    "    songs: list or array of song titles from those found in 100_Sample_MilPlay_Spotify\n",
    "    model: NearestNeighbor model\n",
    "    df: sparse dataframe (playlist x song title) \n",
    "    n_preds: int, number of predictions to be made\n",
    "    \n",
    "    RETURNS:\n",
    "    predictions: list of 1's at indexes corresponding to newly predicted songs\n",
    "    \"\"\"\n",
    "    seed_play = get_song_bool_list(songs, df)\n",
    "    \n",
    "    neigh_play = model.kneighbors(X=[seed_play], return_distance=False, n_neighbors=n_neigh)\n",
    "    pids = neigh_play[0] #All the playlists; indexes don't correspond to pid\n",
    "    sims = defaultdict(int)\n",
    "\n",
    "    tracks = [list(df.columns[train_df.iloc[pid] == 1]) for pid in pids]\n",
    "    \n",
    "    for i, playlist in enumerate(tracks): \n",
    "        for song in playlist:\n",
    "            if song not in songs:\n",
    "                sims[song] += (1/(i+1))\n",
    "                \n",
    "    closest_songs = heapq.nlargest(n_preds, sims, key=sims.get)\n",
    "    return np.array(get_song_bool_list(closest_songs, df))"
   ]
  },
  {
   "cell_type": "code",
   "execution_count": 6,
   "metadata": {},
   "outputs": [],
   "source": [
    "# Use the 100 playlist sampled from the million playlist data.\n",
    "\n",
    "sample_df = pd.read_csv(\"data/100_Sample_MilPlay_Spotify.csv\", index_col=\"pos\")\n",
    "cleaned_df = sample_df.drop(columns=[\"track_uri\", \"artist_uri\", \"album_uri\", \"album_name\", \"type\", \"uri\", \"track_href\", \"analysis_url\", \"duration_ms.1\"])"
   ]
  },
  {
   "cell_type": "code",
   "execution_count": 7,
   "metadata": {},
   "outputs": [],
   "source": [
    "#song_pl_df = pd.DataFrame()\n",
    "\n",
    "#for song in set(cleaned_df[\"track_name\"]):\n",
    "#    in_playlist = [1 if song in list(cleaned_df.loc[cleaned_df[\"pid\"] == pid, \"track_name\"]) else 0 for pid in set(cleaned_df[\"pid\"])]\n",
    "#    song_pl_df[song] = in_playlist\n",
    "    \n",
    "#song_pl_df.to_csv(\"data/sparse_df.csv\") #save for later"
   ]
  },
  {
   "cell_type": "code",
   "execution_count": 8,
   "metadata": {},
   "outputs": [],
   "source": [
    "song_pl_df = pd.read_csv(\"data/sparse_df.csv\")"
   ]
  },
  {
   "cell_type": "code",
   "execution_count": 9,
   "metadata": {},
   "outputs": [],
   "source": [
    "train_df, test_df = train_test_split(song_pl_df, test_size=0.3, random_state=109)\n",
    "\n",
    "train_df = train_df.reset_index(drop=True)\n",
    "test_df = test_df.reset_index(drop=True)"
   ]
  },
  {
   "cell_type": "code",
   "execution_count": 10,
   "metadata": {},
   "outputs": [
    {
     "data": {
      "text/plain": [
       "NearestNeighbors(algorithm='auto', leaf_size=30, metric='cosine',\n",
       "                 metric_params=None, n_jobs=None, n_neighbors=30, p=2,\n",
       "                 radius=1.0)"
      ]
     },
     "execution_count": 10,
     "metadata": {},
     "output_type": "execute_result"
    }
   ],
   "source": [
    "#Train KNeighbors model with 30 neighbors\n",
    "KN_model = NearestNeighbors(n_neighbors=30, metric=\"cosine\")\n",
    "KN_model.fit(train_df)"
   ]
  },
  {
   "cell_type": "code",
   "execution_count": 11,
   "metadata": {},
   "outputs": [
    {
     "name": "stdout",
     "output_type": "stream",
     "text": [
      "Mean R-precision score for train set: 0.9678228818434701\n",
      "Mean NDCG score for train set: 0.9967179218563759\n"
     ]
    }
   ],
   "source": [
    "# Scores for train\n",
    "# Obscure each playlist in set by removing half the songs\n",
    "obscured_plays = train_df.copy(deep=True)\n",
    "\n",
    "for index, playlist in train_df.iterrows():\n",
    "    obscured_list = remove_songs(list(playlist), 0.5)\n",
    "    obscured_plays.iloc[index] = obscured_list\n",
    "    \n",
    "# Predict the number of songs we removed in the obscuring\n",
    "train_preds = []\n",
    "for index, playlist in obscured_plays.iterrows():\n",
    "    train_preds.append(get_npreds(get_titles(playlist, song_pl_df), KN_model, train_df, int(sum(playlist))))\n",
    "    \n",
    "# Score the model's performance in the training set. \n",
    "train_scores = []\n",
    "train_ndcgs = []\n",
    "\n",
    "for i, pred in enumerate(train_preds):\n",
    "    pred_idx = [idx for idx, p in enumerate(pred) if p == 1]\n",
    "    right = np.array(train_df.iloc[i]) - np.array(obscured_plays.iloc[i])\n",
    "    right_idx = [idx for idx, r in enumerate(right) if r == 1]\n",
    "    train_scores.append(sum([1 for pidx in pred_idx if pidx in right_idx])/len(pred_idx))\n",
    "    r_train = [1 if idx in pred_idx else 0 for idx in right_idx]\n",
    "    train_ndcgs.append(ndcg_at_k(r_train, len(r_train)))\n",
    "\n",
    "print(\"Mean R-precision score for train set: {}\".format(np.mean(train_scores)))\n",
    "print(\"Mean NDCG score for train set: {}\".format(np.mean(train_ndcgs)))"
   ]
  },
  {
   "cell_type": "code",
   "execution_count": 12,
   "metadata": {},
   "outputs": [],
   "source": [
    "# Scores for test\n",
    "\n",
    "# Obscure each playlist in set by removing half the songs\n",
    "obscured_test = test_df.copy()\n",
    "\n",
    "for index, playlist in test_df.iterrows():\n",
    "    obscured_list = remove_songs(list(playlist), 0.5)\n",
    "    obscured_test.iloc[index] = obscured_list\n",
    "\n",
    "# Predict the number of songs we removed in the obscuring\n",
    "test_preds = []\n",
    "for index, playlist in obscured_test.iterrows():\n",
    "    test_preds.append(get_npreds(get_titles(playlist, song_pl_df), KN_model, test_df, int(sum(playlist))))\n",
    "    \n",
    "# Score the model's performance in the test set. \n",
    "test_scores = []\n",
    "test_ndcgs = []\n",
    "for i, pred in enumerate(test_preds):\n",
    "    pred_idx = [idx for idx, p in enumerate(pred) if p == 1]\n",
    "    right = np.array(test_df.iloc[i]) - np.array(obscured_plays.iloc[i])\n",
    "    right_idx = [idx for idx, r in enumerate(right) if r == 1]\n",
    "    test_scores.append(sum([1 for pidx in pred_idx if pidx in right_idx])/len(pred_idx))\n",
    "    r_test = [1 if idx in pred_idx else 0 for idx in right_idx]\n",
    "    test_ndcgs.append(ndcg_at_k(r_test, len(r_test)))"
   ]
  },
  {
   "cell_type": "code",
   "execution_count": 21,
   "metadata": {},
   "outputs": [],
   "source": [
    "# Vary number of neighbors\n",
    "mean_rprec = []\n",
    "mean_ndcgs = []\n",
    "\n",
    "for n_neigh in range(1, 80, 2):\n",
    "    KN_model = NearestNeighbors(n_neighbors=n_neigh, metric=\"cosine\")\n",
    "    KN_model.fit(train_df)\n",
    "    test_preds = []\n",
    "    for index, playlist in obscured_test.iterrows():\n",
    "        test_preds.append(get_npreds(get_titles(playlist, song_pl_df), KN_model, test_df, int(sum(playlist)), n_neigh=n_neigh))\n",
    "\n",
    "    # Score the model's performance in the test set. \n",
    "    test_scores = []\n",
    "    test_ndcgs = []\n",
    "    for i, pred in enumerate(test_preds):\n",
    "        pred_idx = [idx for idx, p in enumerate(pred) if p == 1]\n",
    "        right = np.array(test_df.iloc[i]) - np.array(obscured_plays.iloc[i])\n",
    "        right_idx = [idx for idx, r in enumerate(right) if r == 1]\n",
    "        test_scores.append(sum([1 for pidx in pred_idx if pidx in right_idx])/len(pred_idx))\n",
    "        r_test = [1 if idx in pred_idx else 0 for idx in right_idx]\n",
    "        test_ndcgs.append(ndcg_at_k(r_test, len(r_test)))\n",
    "    mean_rprec.append(np.mean(test_scores))\n",
    "    mean_ndcgs.append(np.mean(test_ndcgs))"
   ]
  },
  {
   "cell_type": "code",
   "execution_count": 22,
   "metadata": {},
   "outputs": [
    {
     "name": "stdout",
     "output_type": "stream",
     "text": [
      "Value of n_neighbors that maximizes R-precision + NDCG: 23\n",
      "Mean R-precision score for test set for best n_neighbors: 0.03800877678068774\n",
      "Mean NDCGs score for test set for best n_neighbors: 0.13925007726863173\n"
     ]
    }
   ],
   "source": [
    "best_neigh_idx = np.argmax(np.array(mean_rprec) + np.array(mean_ndcgs))\n",
    "best_neigh = 2*(best_neigh_idx)+1\n",
    "\n",
    "print(\"Value of n_neighbors that maximizes R-precision + NDCG: {}\".format(best_neigh))\n",
    "print(\"Mean R-precision score for test set for best n_neighbors: {}\".format(mean_rprec[best_neigh_idx]))\n",
    "print(\"Mean NDCGs score for test set for best n_neighbors: {}\".format((mean_ndcgs[best_neigh_idx])))"
   ]
  },
  {
   "cell_type": "code",
   "execution_count": 23,
   "metadata": {},
   "outputs": [
    {
     "data": {
      "image/png": "[encoded data removed]",
      "text/plain": [
       "<Figure size 432x288 with 1 Axes>"
      ]
     },
     "metadata": {
      "needs_background": "light"
     },
     "output_type": "display_data"
    },
    {
     "data": {
      "text/plain": [
       "<Figure size 432x288 with 0 Axes>"
      ]
     },
     "metadata": {},
     "output_type": "display_data"
    }
   ],
   "source": [
    "plt.plot(np.arange(1, 80, 2), mean_rprec)\n",
    "plt.title(\"R-precision scores for test set vs. n_neighbors for Collaborative Filtering Model\")\n",
    "plt.xlabel(\"Number of neighbors\")\n",
    "plt.ylabel(\"R-precision score\")\n",
    "plt.savefig(\"data/CF_R.png\")"
   ]
  },
  {
   "cell_type": "code",
   "execution_count": 24,
   "metadata": {},
   "outputs": [
    {
     "data": {
      "image/png": "[encoded data removed]",
      "text/plain": [
       "<Figure size 432x288 with 1 Axes>"
      ]
     },
     "metadata": {
      "needs_background": "light"
     },
     "output_type": "display_data"
    },
    {
     "data": {
      "text/plain": [
       "<Figure size 432x288 with 0 Axes>"
      ]
     },
     "metadata": {},
     "output_type": "display_data"
    }
   ],
   "source": [
    "plt.plot(np.arange(1, 80, 2), mean_ndcgs)\n",
    "plt.title(\"NDCG scores for test set vs. n_neighbors for Collaborative Filtering Model\")\n",
    "plt.xlabel(\"Number of neighbors\")\n",
    "plt.ylabel(\"NDCG score\")\n",
    "plt.savefig(\"data/CF_NDCG.png\")"
   ]
  },
  {
   "cell_type": "code",
   "execution_count": null,
   "metadata": {},
   "outputs": [],
   "source": []
  }
 ],
 "metadata": {
  "kernelspec": {
   "display_name": "Python 3",
   "language": "python",
   "name": "python3"
  },
  "language_info": {
   "codemirror_mode": {
    "name": "ipython",
    "version": 3
   },
   "file_extension": ".py",
   "mimetype": "text/x-python",
   "name": "python",
   "nbconvert_exporter": "python",
   "pygments_lexer": "ipython3",
   "version": "3.7.4"
  }
 },
 "nbformat": 4,
 "nbformat_minor": 4
}
