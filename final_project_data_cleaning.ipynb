{
 "cells": [
  {
   "cell_type": "markdown",
   "metadata": {},
   "source": [
    "*Cleaning the data:*\n",
    "\n",
    "Here we work with 2 data sources:\n",
    "1. 1 Million Playlist Dataset\n",
    "2. Spotify API\n",
    "\n",
    "We downloaded and saved the 1,000,000 playlists as 1000 files in the folder 'Songs'\n",
    "\n",
    "How we cleaned the data has been explained as we do it in the notebook.\n",
    "\n",
    "The final dataset we work with contains playlist data taken from data source (1) and then song features for each song in those playlists from data source (2). We the data we prepared as csv for easy downloading.\n"
   ]
  },
  {
   "cell_type": "code",
   "execution_count": 1,
   "metadata": {},
   "outputs": [],
   "source": [
    "import numpy as np\n",
    "import pandas as pd\n",
    "import matplotlib.pyplot as plt\n",
    "import json\n",
    "\n",
    "from sklearn.model_selection import cross_val_score\n",
    "from sklearn.utils import resample\n",
    "from sklearn.tree import DecisionTreeClassifier\n",
    "from sklearn.ensemble import RandomForestClassifier\n",
    "from sklearn.ensemble import AdaBoostClassifier\n",
    "from sklearn.metrics import accuracy_score\n",
    "from sklearn.model_selection import train_test_split\n",
    "from sklearn.metrics.pairwise import cosine_similarity \n",
    "from sklearn.preprocessing import MinMaxScaler\n",
    "\n",
    "%matplotlib inline\n",
    "\n",
    "import seaborn as sns\n",
    "sns.set(style='whitegrid')\n",
    "pd.set_option('display.width', 1500)\n",
    "pd.set_option('display.max_columns', 100)"
   ]
  },
  {
   "cell_type": "code",
   "execution_count": null,
   "metadata": {},
   "outputs": [],
   "source": [
    "# The 1 million playlist data lives in 1000 separate files\n",
    "# That amount of data will take a lot of time to work with\n",
    "# Thus we randomly subset 10 files to work with 10000 playlists\n",
    "\n",
    "np.random.seed(seed = 19)\n",
    "numbers = np.arange(0,1000,1)\n",
    "sample = np.random.choice(numbers, size=10, replace=True)\n",
    "sample_pathname = ['Songs/songs'] * 10 \n",
    "for number in range(10):\n",
    "    string = 'Songs/songs' + str(sample[number]) + '.csv'\n",
    "    sample_pathname[number] = string\n",
    "\n",
    "print(\"Playlist files we will use by random selection:\")\n",
    "print(\"10 files should give us 10,000 playlists\")\n",
    "sample_pathname\n"
   ]
  },
  {
   "cell_type": "code",
   "execution_count": null,
   "metadata": {},
   "outputs": [],
   "source": [
    "# Saving those 10 playlist file path in a list\n",
    "# They are saved in a folder named Songs\n",
    "# There are 1000 files with 1000 playlists in each\n",
    "playlist_list = []\n",
    "for path in sample_pathname:\n",
    "    df = pd.read_csv(path)\n",
    "    playlist_list.append(df)"
   ]
  },
  {
   "cell_type": "code",
   "execution_count": null,
   "metadata": {},
   "outputs": [],
   "source": [
    "# We want to get a dataframe with 10,000 playlists\n",
    "# Making sure the 10,000 playlists have a different  or playlist id\n",
    "for i in range(10):\n",
    "    playlist_list[i]['pid'] = playlist_list[i]['pid'] + 1000*i\n",
    "    \n",
    "# Combining the 10,000 playlist into a single df\n",
    "df = playlist_list[0]\n",
    "for i in range(1,10):\n",
    "    df = df.append(playlist_list[i], ignore_index=True)\n",
    "df.tail(10)"
   ]
  },
  {
   "cell_type": "code",
   "execution_count": null,
   "metadata": {},
   "outputs": [],
   "source": [
    "# Saving as csv file\n",
    "df.to_csv(\"data/Sample_from_Million_Playlist.csv\")\n"
   ]
  },
  {
   "cell_type": "code",
   "execution_count": null,
   "metadata": {},
   "outputs": [],
   "source": [
    "# Getting data from Spotify api\n",
    "import spotipy\n",
    "from spotipy.oauth2 import SpotifyClientCredentials\n",
    "\n",
    "client_credentials_manager = SpotifyClientCredentials('ca4bc09f475c428ea4a78ac1149aa78b', '14d5874e3c1545579dd97bce7c79a852', None)\n",
    "sp = spotipy.Spotify(client_credentials_manager=client_credentials_manager)\n"
   ]
  },
  {
   "cell_type": "code",
   "execution_count": null,
   "metadata": {},
   "outputs": [],
   "source": [
    "# We have 10,000 playlists\n",
    "\n",
    "# It's hard time consuming to bring data from spotify for over 663,000 songs\n",
    "# I tried 1000 playlists and spotify didn't allow me to get that much data\n",
    "# Let's choose a small subset, 100 playlists in random and bring spotify data for those songs\n",
    "\n",
    "np.random.seed(seed = 10)\n",
    "numbers2 = np.arange(0,10000,1)\n",
    "sample2 = np.random.choice(numbers, size=200, replace=True)\n",
    "small_df = df[df['pid'].isin(sample2)]\n",
    "\n",
    "# Removing 28 songs such that we can send larger requests (100 requests at a time) to spotify \n",
    "small_df = small_df.iloc[:12100,:]"
   ]
  },
  {
   "cell_type": "code",
   "execution_count": null,
   "metadata": {},
   "outputs": [],
   "source": [
    "# Got track info on 12,100 songs\n",
    "track_info = []\n",
    "mah_tracks_uri = list(small_df['track_uri'])\n",
    "counts = list(np.arange(0,12100,100))\n",
    "for count in counts:\n",
    "    \n",
    "    # This is the part we get data from Spotify\n",
    "    # Usually takes a long time to implement\n",
    "    for x in mah_tracks_uri[count:count+100]:\n",
    "        song = sp.audio_features(tracks= x)[0]\n",
    "        track_info.append(song)\n",
    "        \n",
    "# We have a dataframe with info on each track\n",
    "track_info_df = pd.DataFrame(track_info)\n",
    "track_info_df.head(10)"
   ]
  },
  {
   "cell_type": "code",
   "execution_count": null,
   "metadata": {},
   "outputs": [],
   "source": [
    "# Merging the two dataframes\n",
    "df_spotify = pd.concat([small_df.reset_index(), track_info_df], axis=1)\n",
    "df_spotify.head(10)\n",
    "\n",
    "# Saving as csv file\n",
    "# This file below will be used in our analysis files\n",
    "df_spotify.to_csv(\"data/100_Sample_MilPlay_Spotify.csv\")"
   ]
  },
  {
   "cell_type": "code",
   "execution_count": 2,
   "metadata": {},
   "outputs": [
    {
     "data": {
      "text/html": [
       "<div>\n",
       "<style scoped>\n",
       "    .dataframe tbody tr th:only-of-type {\n",
       "        vertical-align: middle;\n",
       "    }\n",
       "\n",
       "    .dataframe tbody tr th {\n",
       "        vertical-align: top;\n",
       "    }\n",
       "\n",
       "    .dataframe thead th {\n",
       "        text-align: right;\n",
       "    }\n",
       "</style>\n",
       "<table border=\"1\" class=\"dataframe\">\n",
       "  <thead>\n",
       "    <tr style=\"text-align: right;\">\n",
       "      <th></th>\n",
       "      <th>pid</th>\n",
       "      <th>pos</th>\n",
       "      <th>artist_name</th>\n",
       "      <th>track_uri</th>\n",
       "      <th>artist_uri</th>\n",
       "      <th>track_name</th>\n",
       "      <th>album_uri</th>\n",
       "      <th>duration_ms</th>\n",
       "      <th>album_name</th>\n",
       "      <th>danceability</th>\n",
       "      <th>energy</th>\n",
       "      <th>key</th>\n",
       "      <th>loudness</th>\n",
       "      <th>mode</th>\n",
       "      <th>speechiness</th>\n",
       "      <th>acousticness</th>\n",
       "      <th>instrumentalness</th>\n",
       "      <th>liveness</th>\n",
       "      <th>valence</th>\n",
       "      <th>tempo</th>\n",
       "      <th>type</th>\n",
       "      <th>id</th>\n",
       "      <th>uri</th>\n",
       "      <th>track_href</th>\n",
       "      <th>analysis_url</th>\n",
       "      <th>duration_ms.1</th>\n",
       "      <th>time_signature</th>\n",
       "    </tr>\n",
       "  </thead>\n",
       "  <tbody>\n",
       "    <tr>\n",
       "      <th>0</th>\n",
       "      <td>4</td>\n",
       "      <td>0</td>\n",
       "      <td>Alessia Cara</td>\n",
       "      <td>spotify:track:1wYZZtamWTQAoj8B812uKQ</td>\n",
       "      <td>spotify:artist:2wUjUUtkb5lvLKcGKsKqsR</td>\n",
       "      <td>Here</td>\n",
       "      <td>spotify:album:3rDbA12I5duZnlwakqDdZa</td>\n",
       "      <td>199453</td>\n",
       "      <td>Know-It-All</td>\n",
       "      <td>0.376</td>\n",
       "      <td>0.821</td>\n",
       "      <td>0</td>\n",
       "      <td>-3.974</td>\n",
       "      <td>1</td>\n",
       "      <td>0.1040</td>\n",
       "      <td>0.0785</td>\n",
       "      <td>0.000000</td>\n",
       "      <td>0.0823</td>\n",
       "      <td>0.331</td>\n",
       "      <td>120.462</td>\n",
       "      <td>audio_features</td>\n",
       "      <td>1wYZZtamWTQAoj8B812uKQ</td>\n",
       "      <td>spotify:track:1wYZZtamWTQAoj8B812uKQ</td>\n",
       "      <td>https://api.spotify.com/v1/tracks/1wYZZtamWTQA...</td>\n",
       "      <td>https://api.spotify.com/v1/audio-analysis/1wYZ...</td>\n",
       "      <td>199453</td>\n",
       "      <td>4</td>\n",
       "    </tr>\n",
       "    <tr>\n",
       "      <th>1</th>\n",
       "      <td>4</td>\n",
       "      <td>1</td>\n",
       "      <td>The Weeknd</td>\n",
       "      <td>spotify:track:0Gi17qCJh9e9RJxLaYkm9l</td>\n",
       "      <td>spotify:artist:1Xyo4u8uXC1ZmMpatF05PJ</td>\n",
       "      <td>Dark Times</td>\n",
       "      <td>spotify:album:28ZKQMoNBB0etKXZ97G2SN</td>\n",
       "      <td>260640</td>\n",
       "      <td>Beauty Behind The Madness</td>\n",
       "      <td>0.585</td>\n",
       "      <td>0.421</td>\n",
       "      <td>7</td>\n",
       "      <td>-9.593</td>\n",
       "      <td>1</td>\n",
       "      <td>0.0707</td>\n",
       "      <td>0.1060</td>\n",
       "      <td>0.000010</td>\n",
       "      <td>0.1400</td>\n",
       "      <td>0.240</td>\n",
       "      <td>132.986</td>\n",
       "      <td>audio_features</td>\n",
       "      <td>0Gi17qCJh9e9RJxLaYkm9l</td>\n",
       "      <td>spotify:track:0Gi17qCJh9e9RJxLaYkm9l</td>\n",
       "      <td>https://api.spotify.com/v1/tracks/0Gi17qCJh9e9...</td>\n",
       "      <td>https://api.spotify.com/v1/audio-analysis/0Gi1...</td>\n",
       "      <td>260640</td>\n",
       "      <td>3</td>\n",
       "    </tr>\n",
       "    <tr>\n",
       "      <th>2</th>\n",
       "      <td>4</td>\n",
       "      <td>2</td>\n",
       "      <td>J. Cole</td>\n",
       "      <td>spotify:track:6Ius4TC0L3cN74HT7ENE6e</td>\n",
       "      <td>spotify:artist:6l3HvQ5sa6mXTsMTB19rO5</td>\n",
       "      <td>Wet Dreamz</td>\n",
       "      <td>spotify:album:7viNUmZZ8ztn2UB4XB3jIL</td>\n",
       "      <td>239320</td>\n",
       "      <td>2014 Forest Hills Drive</td>\n",
       "      <td>0.504</td>\n",
       "      <td>0.705</td>\n",
       "      <td>6</td>\n",
       "      <td>-8.205</td>\n",
       "      <td>0</td>\n",
       "      <td>0.3640</td>\n",
       "      <td>0.0752</td>\n",
       "      <td>0.000000</td>\n",
       "      <td>0.1280</td>\n",
       "      <td>0.584</td>\n",
       "      <td>175.483</td>\n",
       "      <td>audio_features</td>\n",
       "      <td>6Ius4TC0L3cN74HT7ENE6e</td>\n",
       "      <td>spotify:track:6Ius4TC0L3cN74HT7ENE6e</td>\n",
       "      <td>https://api.spotify.com/v1/tracks/6Ius4TC0L3cN...</td>\n",
       "      <td>https://api.spotify.com/v1/audio-analysis/6Ius...</td>\n",
       "      <td>239320</td>\n",
       "      <td>4</td>\n",
       "    </tr>\n",
       "    <tr>\n",
       "      <th>3</th>\n",
       "      <td>4</td>\n",
       "      <td>3</td>\n",
       "      <td>Chance The Rapper</td>\n",
       "      <td>spotify:track:0jx8zY5JQsS4YEQcfkoc5C</td>\n",
       "      <td>spotify:artist:1anyVhU62p31KFi8MEzkbf</td>\n",
       "      <td>Angels (feat. Saba)</td>\n",
       "      <td>spotify:album:71QyofYesSsRMwFOTafnhB</td>\n",
       "      <td>206240</td>\n",
       "      <td>Coloring Book</td>\n",
       "      <td>0.771</td>\n",
       "      <td>0.647</td>\n",
       "      <td>5</td>\n",
       "      <td>-5.127</td>\n",
       "      <td>0</td>\n",
       "      <td>0.3760</td>\n",
       "      <td>0.2940</td>\n",
       "      <td>0.000000</td>\n",
       "      <td>0.3700</td>\n",
       "      <td>0.678</td>\n",
       "      <td>155.914</td>\n",
       "      <td>audio_features</td>\n",
       "      <td>0jx8zY5JQsS4YEQcfkoc5C</td>\n",
       "      <td>spotify:track:0jx8zY5JQsS4YEQcfkoc5C</td>\n",
       "      <td>https://api.spotify.com/v1/tracks/0jx8zY5JQsS4...</td>\n",
       "      <td>https://api.spotify.com/v1/audio-analysis/0jx8...</td>\n",
       "      <td>206240</td>\n",
       "      <td>4</td>\n",
       "    </tr>\n",
       "    <tr>\n",
       "      <th>4</th>\n",
       "      <td>4</td>\n",
       "      <td>4</td>\n",
       "      <td>The Weeknd</td>\n",
       "      <td>spotify:track:7fPHfBCyKE3aVCBjE4DAvl</td>\n",
       "      <td>spotify:artist:1Xyo4u8uXC1ZmMpatF05PJ</td>\n",
       "      <td>In The Night</td>\n",
       "      <td>spotify:album:28ZKQMoNBB0etKXZ97G2SN</td>\n",
       "      <td>235653</td>\n",
       "      <td>Beauty Behind The Madness</td>\n",
       "      <td>0.480</td>\n",
       "      <td>0.682</td>\n",
       "      <td>7</td>\n",
       "      <td>-4.940</td>\n",
       "      <td>1</td>\n",
       "      <td>0.1300</td>\n",
       "      <td>0.0696</td>\n",
       "      <td>0.000000</td>\n",
       "      <td>0.0463</td>\n",
       "      <td>0.506</td>\n",
       "      <td>167.939</td>\n",
       "      <td>audio_features</td>\n",
       "      <td>7fPHfBCyKE3aVCBjE4DAvl</td>\n",
       "      <td>spotify:track:7fPHfBCyKE3aVCBjE4DAvl</td>\n",
       "      <td>https://api.spotify.com/v1/tracks/7fPHfBCyKE3a...</td>\n",
       "      <td>https://api.spotify.com/v1/audio-analysis/7fPH...</td>\n",
       "      <td>235653</td>\n",
       "      <td>3</td>\n",
       "    </tr>\n",
       "    <tr>\n",
       "      <th>5</th>\n",
       "      <td>4</td>\n",
       "      <td>5</td>\n",
       "      <td>Donnie Trumpet &amp; The Social Experiment</td>\n",
       "      <td>spotify:track:6fTdcGsjxlAD9PSkoPaLMX</td>\n",
       "      <td>spotify:artist:0ojcq9LJQWMawQdFDw3M0L</td>\n",
       "      <td>Sunday Candy</td>\n",
       "      <td>spotify:album:3eM1KTKmpqrQOvuvYY42cr</td>\n",
       "      <td>226013</td>\n",
       "      <td>Surf</td>\n",
       "      <td>0.511</td>\n",
       "      <td>0.596</td>\n",
       "      <td>0</td>\n",
       "      <td>-6.560</td>\n",
       "      <td>1</td>\n",
       "      <td>0.2240</td>\n",
       "      <td>0.5300</td>\n",
       "      <td>0.000000</td>\n",
       "      <td>0.0798</td>\n",
       "      <td>0.554</td>\n",
       "      <td>158.063</td>\n",
       "      <td>audio_features</td>\n",
       "      <td>6fTdcGsjxlAD9PSkoPaLMX</td>\n",
       "      <td>spotify:track:6fTdcGsjxlAD9PSkoPaLMX</td>\n",
       "      <td>https://api.spotify.com/v1/tracks/6fTdcGsjxlAD...</td>\n",
       "      <td>https://api.spotify.com/v1/audio-analysis/6fTd...</td>\n",
       "      <td>226014</td>\n",
       "      <td>4</td>\n",
       "    </tr>\n",
       "    <tr>\n",
       "      <th>6</th>\n",
       "      <td>4</td>\n",
       "      <td>6</td>\n",
       "      <td>Beyoncé</td>\n",
       "      <td>spotify:track:2CvOqDpQIMw69cCzWqr5yr</td>\n",
       "      <td>spotify:artist:6vWDO969PvNqNYHIOW5v0m</td>\n",
       "      <td>Halo</td>\n",
       "      <td>spotify:album:3ROfBX6lJLnCmaw1NrP5K9</td>\n",
       "      <td>261160</td>\n",
       "      <td>I AM...SASHA FIERCE - Platinum Edition</td>\n",
       "      <td>0.422</td>\n",
       "      <td>0.712</td>\n",
       "      <td>11</td>\n",
       "      <td>-5.907</td>\n",
       "      <td>0</td>\n",
       "      <td>0.1000</td>\n",
       "      <td>0.2730</td>\n",
       "      <td>0.000000</td>\n",
       "      <td>0.0510</td>\n",
       "      <td>0.471</td>\n",
       "      <td>78.454</td>\n",
       "      <td>audio_features</td>\n",
       "      <td>2CvOqDpQIMw69cCzWqr5yr</td>\n",
       "      <td>spotify:track:2CvOqDpQIMw69cCzWqr5yr</td>\n",
       "      <td>https://api.spotify.com/v1/tracks/2CvOqDpQIMw6...</td>\n",
       "      <td>https://api.spotify.com/v1/audio-analysis/2CvO...</td>\n",
       "      <td>261160</td>\n",
       "      <td>4</td>\n",
       "    </tr>\n",
       "    <tr>\n",
       "      <th>7</th>\n",
       "      <td>4</td>\n",
       "      <td>7</td>\n",
       "      <td>Hozier</td>\n",
       "      <td>spotify:track:1ivHxaGL5ld9VS1zsYc4YN</td>\n",
       "      <td>spotify:artist:2FXC3k01G6Gw61bmprjgqS</td>\n",
       "      <td>Cherry Wine - Live</td>\n",
       "      <td>spotify:album:36k5aXpxffjVGcNce12GLZ</td>\n",
       "      <td>240147</td>\n",
       "      <td>Hozier</td>\n",
       "      <td>0.418</td>\n",
       "      <td>0.111</td>\n",
       "      <td>1</td>\n",
       "      <td>-14.848</td>\n",
       "      <td>1</td>\n",
       "      <td>0.0389</td>\n",
       "      <td>0.9530</td>\n",
       "      <td>0.003420</td>\n",
       "      <td>0.0982</td>\n",
       "      <td>0.228</td>\n",
       "      <td>82.508</td>\n",
       "      <td>audio_features</td>\n",
       "      <td>1ivHxaGL5ld9VS1zsYc4YN</td>\n",
       "      <td>spotify:track:1ivHxaGL5ld9VS1zsYc4YN</td>\n",
       "      <td>https://api.spotify.com/v1/tracks/1ivHxaGL5ld9...</td>\n",
       "      <td>https://api.spotify.com/v1/audio-analysis/1ivH...</td>\n",
       "      <td>240147</td>\n",
       "      <td>4</td>\n",
       "    </tr>\n",
       "    <tr>\n",
       "      <th>8</th>\n",
       "      <td>4</td>\n",
       "      <td>8</td>\n",
       "      <td>Hozier</td>\n",
       "      <td>spotify:track:1TGimSbipZ3XZ7q3eszBRV</td>\n",
       "      <td>spotify:artist:2FXC3k01G6Gw61bmprjgqS</td>\n",
       "      <td>Angel Of Small Death &amp; The Codeine Scene</td>\n",
       "      <td>spotify:album:36k5aXpxffjVGcNce12GLZ</td>\n",
       "      <td>219214</td>\n",
       "      <td>Hozier</td>\n",
       "      <td>0.377</td>\n",
       "      <td>0.638</td>\n",
       "      <td>4</td>\n",
       "      <td>-5.754</td>\n",
       "      <td>1</td>\n",
       "      <td>0.0545</td>\n",
       "      <td>0.2130</td>\n",
       "      <td>0.000080</td>\n",
       "      <td>0.1200</td>\n",
       "      <td>0.369</td>\n",
       "      <td>92.644</td>\n",
       "      <td>audio_features</td>\n",
       "      <td>1TGimSbipZ3XZ7q3eszBRV</td>\n",
       "      <td>spotify:track:1TGimSbipZ3XZ7q3eszBRV</td>\n",
       "      <td>https://api.spotify.com/v1/tracks/1TGimSbipZ3X...</td>\n",
       "      <td>https://api.spotify.com/v1/audio-analysis/1TGi...</td>\n",
       "      <td>219214</td>\n",
       "      <td>4</td>\n",
       "    </tr>\n",
       "    <tr>\n",
       "      <th>9</th>\n",
       "      <td>4</td>\n",
       "      <td>9</td>\n",
       "      <td>Hozier</td>\n",
       "      <td>spotify:track:2Tjlq3aGhg3dIZFvSfsnyc</td>\n",
       "      <td>spotify:artist:2FXC3k01G6Gw61bmprjgqS</td>\n",
       "      <td>From Eden</td>\n",
       "      <td>spotify:album:36k5aXpxffjVGcNce12GLZ</td>\n",
       "      <td>283466</td>\n",
       "      <td>Hozier</td>\n",
       "      <td>0.395</td>\n",
       "      <td>0.676</td>\n",
       "      <td>0</td>\n",
       "      <td>-5.460</td>\n",
       "      <td>1</td>\n",
       "      <td>0.0498</td>\n",
       "      <td>0.6080</td>\n",
       "      <td>0.000049</td>\n",
       "      <td>0.1170</td>\n",
       "      <td>0.315</td>\n",
       "      <td>142.929</td>\n",
       "      <td>audio_features</td>\n",
       "      <td>2Tjlq3aGhg3dIZFvSfsnyc</td>\n",
       "      <td>spotify:track:2Tjlq3aGhg3dIZFvSfsnyc</td>\n",
       "      <td>https://api.spotify.com/v1/tracks/2Tjlq3aGhg3d...</td>\n",
       "      <td>https://api.spotify.com/v1/audio-analysis/2Tjl...</td>\n",
       "      <td>283467</td>\n",
       "      <td>5</td>\n",
       "    </tr>\n",
       "  </tbody>\n",
       "</table>\n",
       "</div>"
      ],
      "text/plain": [
       "   pid  pos                             artist_name                             track_uri                             artist_uri                                track_name                             album_uri  duration_ms                              album_name  danceability  energy  key  loudness  mode  speechiness  acousticness  instrumentalness  liveness  valence    tempo            type                      id                                   uri                                         track_href                                       analysis_url  duration_ms.1  time_signature\n",
       "0    4    0                            Alessia Cara  spotify:track:1wYZZtamWTQAoj8B812uKQ  spotify:artist:2wUjUUtkb5lvLKcGKsKqsR                                      Here  spotify:album:3rDbA12I5duZnlwakqDdZa       199453                             Know-It-All         0.376   0.821    0    -3.974     1       0.1040        0.0785          0.000000    0.0823    0.331  120.462  audio_features  1wYZZtamWTQAoj8B812uKQ  spotify:track:1wYZZtamWTQAoj8B812uKQ  https://api.spotify.com/v1/tracks/1wYZZtamWTQA...  https://api.spotify.com/v1/audio-analysis/1wYZ...         199453               4\n",
       "1    4    1                              The Weeknd  spotify:track:0Gi17qCJh9e9RJxLaYkm9l  spotify:artist:1Xyo4u8uXC1ZmMpatF05PJ                                Dark Times  spotify:album:28ZKQMoNBB0etKXZ97G2SN       260640               Beauty Behind The Madness         0.585   0.421    7    -9.593     1       0.0707        0.1060          0.000010    0.1400    0.240  132.986  audio_features  0Gi17qCJh9e9RJxLaYkm9l  spotify:track:0Gi17qCJh9e9RJxLaYkm9l  https://api.spotify.com/v1/tracks/0Gi17qCJh9e9...  https://api.spotify.com/v1/audio-analysis/0Gi1...         260640               3\n",
       "2    4    2                                 J. Cole  spotify:track:6Ius4TC0L3cN74HT7ENE6e  spotify:artist:6l3HvQ5sa6mXTsMTB19rO5                                Wet Dreamz  spotify:album:7viNUmZZ8ztn2UB4XB3jIL       239320                 2014 Forest Hills Drive         0.504   0.705    6    -8.205     0       0.3640        0.0752          0.000000    0.1280    0.584  175.483  audio_features  6Ius4TC0L3cN74HT7ENE6e  spotify:track:6Ius4TC0L3cN74HT7ENE6e  https://api.spotify.com/v1/tracks/6Ius4TC0L3cN...  https://api.spotify.com/v1/audio-analysis/6Ius...         239320               4\n",
       "3    4    3                       Chance The Rapper  spotify:track:0jx8zY5JQsS4YEQcfkoc5C  spotify:artist:1anyVhU62p31KFi8MEzkbf                       Angels (feat. Saba)  spotify:album:71QyofYesSsRMwFOTafnhB       206240                           Coloring Book         0.771   0.647    5    -5.127     0       0.3760        0.2940          0.000000    0.3700    0.678  155.914  audio_features  0jx8zY5JQsS4YEQcfkoc5C  spotify:track:0jx8zY5JQsS4YEQcfkoc5C  https://api.spotify.com/v1/tracks/0jx8zY5JQsS4...  https://api.spotify.com/v1/audio-analysis/0jx8...         206240               4\n",
       "4    4    4                              The Weeknd  spotify:track:7fPHfBCyKE3aVCBjE4DAvl  spotify:artist:1Xyo4u8uXC1ZmMpatF05PJ                              In The Night  spotify:album:28ZKQMoNBB0etKXZ97G2SN       235653               Beauty Behind The Madness         0.480   0.682    7    -4.940     1       0.1300        0.0696          0.000000    0.0463    0.506  167.939  audio_features  7fPHfBCyKE3aVCBjE4DAvl  spotify:track:7fPHfBCyKE3aVCBjE4DAvl  https://api.spotify.com/v1/tracks/7fPHfBCyKE3a...  https://api.spotify.com/v1/audio-analysis/7fPH...         235653               3\n",
       "5    4    5  Donnie Trumpet & The Social Experiment  spotify:track:6fTdcGsjxlAD9PSkoPaLMX  spotify:artist:0ojcq9LJQWMawQdFDw3M0L                              Sunday Candy  spotify:album:3eM1KTKmpqrQOvuvYY42cr       226013                                    Surf         0.511   0.596    0    -6.560     1       0.2240        0.5300          0.000000    0.0798    0.554  158.063  audio_features  6fTdcGsjxlAD9PSkoPaLMX  spotify:track:6fTdcGsjxlAD9PSkoPaLMX  https://api.spotify.com/v1/tracks/6fTdcGsjxlAD...  https://api.spotify.com/v1/audio-analysis/6fTd...         226014               4\n",
       "6    4    6                                 Beyoncé  spotify:track:2CvOqDpQIMw69cCzWqr5yr  spotify:artist:6vWDO969PvNqNYHIOW5v0m                                      Halo  spotify:album:3ROfBX6lJLnCmaw1NrP5K9       261160  I AM...SASHA FIERCE - Platinum Edition         0.422   0.712   11    -5.907     0       0.1000        0.2730          0.000000    0.0510    0.471   78.454  audio_features  2CvOqDpQIMw69cCzWqr5yr  spotify:track:2CvOqDpQIMw69cCzWqr5yr  https://api.spotify.com/v1/tracks/2CvOqDpQIMw6...  https://api.spotify.com/v1/audio-analysis/2CvO...         261160               4\n",
       "7    4    7                                  Hozier  spotify:track:1ivHxaGL5ld9VS1zsYc4YN  spotify:artist:2FXC3k01G6Gw61bmprjgqS                        Cherry Wine - Live  spotify:album:36k5aXpxffjVGcNce12GLZ       240147                                  Hozier         0.418   0.111    1   -14.848     1       0.0389        0.9530          0.003420    0.0982    0.228   82.508  audio_features  1ivHxaGL5ld9VS1zsYc4YN  spotify:track:1ivHxaGL5ld9VS1zsYc4YN  https://api.spotify.com/v1/tracks/1ivHxaGL5ld9...  https://api.spotify.com/v1/audio-analysis/1ivH...         240147               4\n",
       "8    4    8                                  Hozier  spotify:track:1TGimSbipZ3XZ7q3eszBRV  spotify:artist:2FXC3k01G6Gw61bmprjgqS  Angel Of Small Death & The Codeine Scene  spotify:album:36k5aXpxffjVGcNce12GLZ       219214                                  Hozier         0.377   0.638    4    -5.754     1       0.0545        0.2130          0.000080    0.1200    0.369   92.644  audio_features  1TGimSbipZ3XZ7q3eszBRV  spotify:track:1TGimSbipZ3XZ7q3eszBRV  https://api.spotify.com/v1/tracks/1TGimSbipZ3X...  https://api.spotify.com/v1/audio-analysis/1TGi...         219214               4\n",
       "9    4    9                                  Hozier  spotify:track:2Tjlq3aGhg3dIZFvSfsnyc  spotify:artist:2FXC3k01G6Gw61bmprjgqS                                 From Eden  spotify:album:36k5aXpxffjVGcNce12GLZ       283466                                  Hozier         0.395   0.676    0    -5.460     1       0.0498        0.6080          0.000049    0.1170    0.315  142.929  audio_features  2Tjlq3aGhg3dIZFvSfsnyc  spotify:track:2Tjlq3aGhg3dIZFvSfsnyc  https://api.spotify.com/v1/tracks/2Tjlq3aGhg3d...  https://api.spotify.com/v1/audio-analysis/2Tjl...         283467               5"
      ]
     },
     "execution_count": 2,
     "metadata": {},
     "output_type": "execute_result"
    }
   ],
   "source": [
    "# Reading the dataframe to start working\n",
    "df = pd.read_csv(\"data/Sample_from_Million_Playlist.csv\")\n",
    "# Reading the data from saved file\n",
    "# This is the dataframe we will implement our mode\n",
    "df_spotify = pd.read_csv(\"data/100_Sample_MilPlay_Spotify.csv\")\n",
    "df_spotify.head(10)"
   ]
  },
  {
   "cell_type": "markdown",
   "metadata": {},
   "source": [
    "**Note:**\n",
    "Before we use this data for all our analysis, it is crucial to see that the data is indeed random and that our selected playlists display strong variety"
   ]
  },
  {
   "cell_type": "code",
   "execution_count": 8,
   "metadata": {},
   "outputs": [
    {
     "data": {
      "image/png": "[encoded data removed]",
      "text/plain": [
       "<Figure size 432x288 with 1 Axes>"
      ]
     },
     "metadata": {
      "needs_background": "light"
     },
     "output_type": "display_data"
    }
   ],
   "source": [
    "plt.hist(df_spotify['pid'].value_counts())\n",
    "plt.title(\"Distribution of number of songs in our 100 Playlists\")\n",
    "plt.ylabel(\"Count\")\n",
    "plt.ylabel(\"Number of songs in a playlist\")\n",
    "plt.show()"
   ]
  },
  {
   "cell_type": "code",
   "execution_count": 11,
   "metadata": {},
   "outputs": [
    {
     "data": {
      "image/png": "[encoded data removed]",
      "text/plain": [
       "<Figure size 432x288 with 1 Axes>"
      ]
     },
     "metadata": {
      "needs_background": "light"
     },
     "output_type": "display_data"
    }
   ],
   "source": [
    "plt.hist(df_spotify['artist_name'].value_counts())\n",
    "plt.title(\"No artists dominate our 100 Playlists\")\n",
    "plt.ylabel(\"Count\")\n",
    "plt.xlabel(\"Number of songs an artist has\")\n",
    "plt.show()"
   ]
  },
  {
   "cell_type": "code",
   "execution_count": 15,
   "metadata": {},
   "outputs": [
    {
     "data": {
      "text/plain": [
       "Text(0.5, 0, 'Total songs across playlists')"
      ]
     },
     "execution_count": 15,
     "metadata": {},
     "output_type": "execute_result"
    },
    {
     "data": {
      "image/png": "[encoded data removed]",
      "text/plain": [
       "<Figure size 432x288 with 1 Axes>"
      ]
     },
     "metadata": {
      "needs_background": "light"
     },
     "output_type": "display_data"
    }
   ],
   "source": [
    "# Checking which artists are featured most across all playlists\n",
    "values = list(df_spotify['artist_name'].value_counts())\n",
    "names = df_spotify['artist_name'].value_counts().index.tolist()\n",
    "\n",
    "ax = sns.barplot(y=names[0:10], x=values[0:10])\n",
    "ax.set_title('Artists with most featured songs across all playlists')\n",
    "ax.set_xlabel('Total songs across playlists')"
   ]
  },
  {
   "cell_type": "code",
   "execution_count": 16,
   "metadata": {},
   "outputs": [
    {
     "data": {
      "image/png": "[encoded data removed]",
      "text/plain": [
       "<Figure size 432x288 with 1 Axes>"
      ]
     },
     "metadata": {
      "needs_background": "light"
     },
     "output_type": "display_data"
    }
   ],
   "source": [
    "plt.hist(df_spotify['danceability'])\n",
    "plt.title(\"Danceability seems well distributed in our 100 Playlists\")\n",
    "plt.ylabel(\"Songs Count\")\n",
    "plt.xlabel(\"Danceability\")\n",
    "plt.show()"
   ]
  },
  {
   "cell_type": "code",
   "execution_count": 17,
   "metadata": {},
   "outputs": [
    {
     "data": {
      "image/png": "[encoded data removed]",
      "text/plain": [
       "<Figure size 432x288 with 1 Axes>"
      ]
     },
     "metadata": {
      "needs_background": "light"
     },
     "output_type": "display_data"
    }
   ],
   "source": [
    "plt.hist(df_spotify['energy'])\n",
    "plt.title(\"Energy seems well distributed in our 100 Playlists\")\n",
    "plt.ylabel(\"Songs Count\")\n",
    "plt.xlabel(\"Energy\")\n",
    "plt.show()"
   ]
  },
  {
   "cell_type": "code",
   "execution_count": 18,
   "metadata": {},
   "outputs": [
    {
     "data": {
      "image/png": "[encoded data removed]",
      "text/plain": [
       "<Figure size 432x288 with 1 Axes>"
      ]
     },
     "metadata": {
      "needs_background": "light"
     },
     "output_type": "display_data"
    }
   ],
   "source": [
    "plt.hist(df_spotify['valence'])\n",
    "plt.title(\"Valence seems well distributed in our 100 Playlists\")\n",
    "plt.ylabel(\"Songs Count\")\n",
    "plt.xlabel(\"Valence\")\n",
    "plt.show()"
   ]
  },
  {
   "cell_type": "code",
   "execution_count": 20,
   "metadata": {},
   "outputs": [
    {
     "data": {
      "image/png": "[encoded data removed]",
      "text/plain": [
       "<Figure size 432x288 with 1 Axes>"
      ]
     },
     "metadata": {
      "needs_background": "light"
     },
     "output_type": "display_data"
    }
   ],
   "source": [
    "plt.hist(df_spotify['duration_ms']/1000)\n",
    "plt.title(\"Duration seems well distributed in our 100 Playlists\")\n",
    "plt.ylabel(\"Songs Count\")\n",
    "plt.xlabel(\"Duration (sec)\")\n",
    "plt.xlim(60,500)\n",
    "plt.show()"
   ]
  },
  {
   "cell_type": "code",
   "execution_count": null,
   "metadata": {},
   "outputs": [],
   "source": []
  }
 ],
 "metadata": {
  "kernelspec": {
   "display_name": "Python 3",
   "language": "python",
   "name": "python3"
  },
  "language_info": {
   "codemirror_mode": {
    "name": "ipython",
    "version": 3
   },
   "file_extension": ".py",
   "mimetype": "text/x-python",
   "name": "python",
   "nbconvert_exporter": "python",
   "pygments_lexer": "ipython3",
   "version": "3.7.4"
  }
 },
 "nbformat": 4,
 "nbformat_minor": 4
}
